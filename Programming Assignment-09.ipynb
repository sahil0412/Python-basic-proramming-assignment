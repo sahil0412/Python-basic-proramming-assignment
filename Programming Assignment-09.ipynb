{
 "cells": [
  {
   "cell_type": "markdown",
   "id": "ffae275b-6dfa-462e-8320-c0369ee9f3d6",
   "metadata": {},
   "source": [
    "# Assignment 9 Solutions"
   ]
  },
  {
   "cell_type": "markdown",
   "id": "785f1e88-3e83-4a65-9f2d-13eccfe6e95e",
   "metadata": {},
   "source": [
    "#### 1.Write a Python Program to check if the given number is a Disarium Number ?\n",
    "#### A Disarium number is a number defined by the sum of its digits raised to the power of their respective positions. For example, 89 is a Disarium number because 8^1 + 9^2 = 89."
   ]
  },
  {
   "cell_type": "code",
   "execution_count": 2,
   "id": "af98fb08-ed9d-402c-b98a-87900cae9ea9",
   "metadata": {},
   "outputs": [
    {
     "name": "stdin",
     "output_type": "stream",
     "text": [
      "Enter a number to check if it's a Disarium number:  135\n"
     ]
    },
    {
     "name": "stdout",
     "output_type": "stream",
     "text": [
      "135 is a Disarium number.\n"
     ]
    }
   ],
   "source": [
    "def is_disarium(num):\n",
    "    # Convert the number to a string to iterate over its digits\n",
    "    num_str = str(num)\n",
    "    # Calculate the sum of digits raised to their respective positions\n",
    "    digit_sum = sum(int(digit) ** (index + 1) for index, digit in enumerate(num_str))\n",
    "    # Check if the sum is equal to the original number\n",
    "    return digit_sum == num\n",
    "\n",
    "num = int(input(\"Enter a number to check if it's a Disarium number: \"))\n",
    "if is_disarium(num):\n",
    "    print(f\"{num} is a Disarium number.\")\n",
    "else:\n",
    "    print(f\"{num} is not a Disarium number.\")\n"
   ]
  },
  {
   "cell_type": "markdown",
   "id": "27f8a901-3eea-40be-ab9d-8cbc18299b0b",
   "metadata": {},
   "source": [
    "#### 2.Write a Python Program to print all Disarium numbers between 1 to 100 ?"
   ]
  },
  {
   "cell_type": "code",
   "execution_count": 3,
   "id": "8e3881ad-a935-49f9-92aa-fe628fa99285",
   "metadata": {},
   "outputs": [
    {
     "name": "stdout",
     "output_type": "stream",
     "text": [
      "Disarium numbers between 1 to 100:\n",
      "1\n",
      "2\n",
      "3\n",
      "4\n",
      "5\n",
      "6\n",
      "7\n",
      "8\n",
      "9\n",
      "89\n"
     ]
    }
   ],
   "source": [
    "def is_disarium(num):\n",
    "    # Convert the number to a string to iterate over its digits\n",
    "    num_str = str(num)\n",
    "    # Calculate the sum of digits raised to their respective positions\n",
    "    digit_sum = sum(int(digit) ** (index + 1) for index, digit in enumerate(num_str))\n",
    "    # Check if the sum is equal to the original number\n",
    "    return digit_sum == num\n",
    "\n",
    "# Iterate through numbers from 1 to 100 and print Disarium numbers\n",
    "print(\"Disarium numbers between 1 to 100:\")\n",
    "for num in range(1, 101):\n",
    "    if is_disarium(num):\n",
    "        print(num)\n"
   ]
  },
  {
   "cell_type": "markdown",
   "id": "e7b19201-9495-451c-84c0-f4efa7e95228",
   "metadata": {},
   "source": [
    "#### 3.Write a Python Program to check if the given number is Happy Number ?\n",
    "#### A happy number is a number which eventually reaches 1 when replaced by the sum of the square of each digit. If the process loops endlessly in a cycle which does not include 1, then the number is not a happy number."
   ]
  },
  {
   "cell_type": "code",
   "execution_count": 6,
   "id": "fb7ca860-a593-4155-9138-2e65f2924b49",
   "metadata": {},
   "outputs": [
    {
     "name": "stdin",
     "output_type": "stream",
     "text": [
      "Enter a number to check if it's a Happy number:  21\n"
     ]
    },
    {
     "name": "stdout",
     "output_type": "stream",
     "text": [
      "21 is not a Happy number.\n"
     ]
    }
   ],
   "source": [
    "def is_happy_number(num):\n",
    "    seen = set()  # To keep track of numbers we've seen before\n",
    "    while num != 1 and num not in seen:\n",
    "        seen.add(num)\n",
    "        num = sum(int(digit)**2 for digit in str(num))\n",
    "    return num == 1\n",
    "\n",
    "num = int(input(\"Enter a number to check if it's a Happy number: \"))\n",
    "if is_happy_number(num):\n",
    "    print(f\"{num} is a Happy number.\")\n",
    "else:\n",
    "    print(f\"{num} is not a Happy number.\")\n"
   ]
  },
  {
   "cell_type": "markdown",
   "id": "0fed3bd1-3591-46fd-8623-6459573e2e5b",
   "metadata": {},
   "source": [
    "#### 4.Write a Python Program to print all Happy numbers between 1 and 100 ?"
   ]
  },
  {
   "cell_type": "code",
   "execution_count": 8,
   "id": "f305cbcc-0138-405f-bf69-f2d97c285ab3",
   "metadata": {},
   "outputs": [
    {
     "name": "stdout",
     "output_type": "stream",
     "text": [
      "1 is a Happy number.\n",
      "7 is a Happy number.\n",
      "10 is a Happy number.\n",
      "13 is a Happy number.\n",
      "19 is a Happy number.\n",
      "23 is a Happy number.\n",
      "28 is a Happy number.\n",
      "31 is a Happy number.\n",
      "32 is a Happy number.\n",
      "44 is a Happy number.\n",
      "49 is a Happy number.\n",
      "68 is a Happy number.\n",
      "70 is a Happy number.\n",
      "79 is a Happy number.\n",
      "82 is a Happy number.\n",
      "86 is a Happy number.\n",
      "91 is a Happy number.\n",
      "94 is a Happy number.\n",
      "97 is a Happy number.\n",
      "100 is a Happy number.\n"
     ]
    }
   ],
   "source": [
    "def is_happy_number(num):\n",
    "    seen = set()  # To keep track of numbers we've seen before\n",
    "    while num != 1 and num not in seen:\n",
    "        seen.add(num)\n",
    "        num = sum(int(digit)**2 for digit in str(num))\n",
    "    return num == 1\n",
    "\n",
    "# nums = int(input(\"Enter a number to check if it's a Happy number: \"))\n",
    "for num in range(1,101):\n",
    "    if is_happy_number(num):\n",
    "        print(f\"{num} is a Happy number.\")\n",
    "    else:\n",
    "        # print(f\"{num} is not a Happy number.\")\n",
    "        pass"
   ]
  },
  {
   "cell_type": "markdown",
   "id": "811cca90-4eed-4595-a846-de8a26080bc7",
   "metadata": {},
   "source": [
    "#### 5.Write a Python Program to determine whether the given number is a Harshad Number ?\n",
    "#### A Harshad number (or Niven number) is an integer that is divisible by the sum of its digits."
   ]
  },
  {
   "cell_type": "code",
   "execution_count": 9,
   "id": "916ee901-fdb3-44f0-bfc6-b1d708f65efa",
   "metadata": {},
   "outputs": [
    {
     "name": "stdin",
     "output_type": "stream",
     "text": [
      "Enter a number to check if it's a Harshad number:  32\n"
     ]
    },
    {
     "name": "stdout",
     "output_type": "stream",
     "text": [
      "32 is not a Harshad number.\n"
     ]
    }
   ],
   "source": [
    "def is_harshad_number(num):\n",
    "    # Calculate the sum of digits\n",
    "    digit_sum = sum(int(digit) for digit in str(num))\n",
    "    # Check if the number is divisible by the sum of its digits\n",
    "    return num % digit_sum == 0\n",
    "\n",
    "# Example usage\n",
    "num = int(input(\"Enter a number to check if it's a Harshad number: \"))\n",
    "if is_harshad_number(num):\n",
    "    print(f\"{num} is a Harshad number.\")\n",
    "else:\n",
    "    print(f\"{num} is not a Harshad number.\")\n"
   ]
  },
  {
   "cell_type": "markdown",
   "id": "ae824bf0-5eb1-46c0-bbed-6f303c9b27d8",
   "metadata": {},
   "source": [
    "#### 6.Write a Python Program to print all pronic numbers between 1 and 100 ?\n",
    "#### A pronic number, also known as a heteromecic number, oblong number, or rectangular number, is a number which is the product of two consecutive integers"
   ]
  },
  {
   "cell_type": "code",
   "execution_count": 10,
   "id": "1aadc6ad-1c0f-4b04-9c01-844d5061726a",
   "metadata": {},
   "outputs": [
    {
     "name": "stdout",
     "output_type": "stream",
     "text": [
      "Pronic numbers between 1 and 100:\n",
      "2\n",
      "6\n",
      "12\n",
      "20\n",
      "30\n",
      "42\n",
      "56\n",
      "72\n",
      "90\n"
     ]
    }
   ],
   "source": [
    "def is_pronic(num):\n",
    "    # Check if num is a product of two consecutive integers\n",
    "    for i in range(num):\n",
    "        if i * (i + 1) == num:\n",
    "            return True\n",
    "    return False\n",
    "\n",
    "# Print pronic numbers between 1 and 100\n",
    "print(\"Pronic numbers between 1 and 100:\")\n",
    "for num in range(1, 101):\n",
    "    if is_pronic(num):\n",
    "        print(num)\n"
   ]
  },
  {
   "cell_type": "code",
   "execution_count": null,
   "id": "a44c7e38-a06b-4c71-bcc8-c54b2b78d44b",
   "metadata": {},
   "outputs": [],
   "source": []
  }
 ],
 "metadata": {
  "kernelspec": {
   "display_name": "Python 3 (ipykernel)",
   "language": "python",
   "name": "python3"
  },
  "language_info": {
   "codemirror_mode": {
    "name": "ipython",
    "version": 3
   },
   "file_extension": ".py",
   "mimetype": "text/x-python",
   "name": "python",
   "nbconvert_exporter": "python",
   "pygments_lexer": "ipython3",
   "version": "3.8.10"
  }
 },
 "nbformat": 4,
 "nbformat_minor": 5
}
