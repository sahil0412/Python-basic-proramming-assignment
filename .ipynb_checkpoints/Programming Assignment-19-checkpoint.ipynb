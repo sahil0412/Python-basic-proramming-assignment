{
 "cells": [
  {
   "cell_type": "markdown",
   "id": "25118736-5cd2-4388-977b-fb7e6397d4bc",
   "metadata": {},
   "source": [
    "# Assignment 19 Solutions"
   ]
  },
  {
   "cell_type": "markdown",
   "id": "36a36e2c-1f3f-4834-86a6-c5a460baaf1f",
   "metadata": {},
   "source": [
    "#### 1.Create a function that takes a string and returns a string in which each character is repeated once.\n",
    "**Examples:**  \n",
    "`double_char(\"String\") ➞ \"SSttrriinngg\"`  \n",
    "`double_char(\"Hello World!\") ➞ \"HHeelllloo WWoorrlldd!!\"`  \n",
    "`doublechar(\"1234!_\") ➞ \"11223344!!__\"`  "
   ]
  },
  {
   "cell_type": "code",
   "execution_count": 3,
   "id": "fca4d837-8f49-450c-8c49-ae49440250a9",
   "metadata": {},
   "outputs": [
    {
     "name": "stdout",
     "output_type": "stream",
     "text": [
      "SSttrriinngg\n",
      "HHeelllloo  WWoorrlldd!!\n",
      "11223344!!__\n"
     ]
    }
   ],
   "source": [
    "def double_char(input_string):\n",
    "    output_string = \"\"\n",
    "    for ch in input_string:\n",
    "        output_string = output_string + str(ch)*2\n",
    "    return output_string\n",
    "print(double_char(\"String\"))\n",
    "print(double_char(\"Hello World!\"))\n",
    "print(double_char(\"1234!_\"))"
   ]
  },
  {
   "cell_type": "markdown",
   "id": "83521dfd-e268-4b57-a990-74bc2f5df583",
   "metadata": {},
   "source": [
    "#### 2.Create a function that reverses a boolean value and returns the string \"boolean expected\" if another variable type is given.\n",
    "**Examples:**  \n",
    "`reverse(True) ➞ False`  \n",
    "`reverse(False) ➞ True`  \n",
    "`reverse(0) ➞ \"boolean expected\"`  \n",
    "`reverse(None) ➞ \"boolean expected\"`  "
   ]
  },
  {
   "cell_type": "code",
   "execution_count": 4,
   "id": "98a6851f-41e9-41ca-9282-5f4bec4dd363",
   "metadata": {},
   "outputs": [
    {
     "name": "stdout",
     "output_type": "stream",
     "text": [
      "reverse(True) ➞ False\n",
      "reverse(False) ➞ True\n",
      "reverse(0) ➞ Boolean Expected\n",
      "reverse(None) ➞ Boolean Expected\n"
     ]
    }
   ],
   "source": [
    "def reverse(in_bool):\n",
    "    if type(in_bool) == bool:\n",
    "        return not in_bool\n",
    "    else:\n",
    "        return \"Boolean Expected\"\n",
    "\n",
    "print(f'reverse(True) ➞ {reverse(True)}')\n",
    "print(f'reverse(False) ➞ {reverse(False)}')\n",
    "print(f'reverse(0) ➞ {reverse(0)}')\n",
    "print(f'reverse(None) ➞ {reverse(None)}')"
   ]
  },
  {
   "cell_type": "markdown",
   "id": "480c177b-d763-4fa4-854d-01a2a2e5fd0a",
   "metadata": {},
   "source": [
    "#### 3. Create a function that returns the thickness (in meters) of a piece of paper after folding it n number of times. The paper starts off with a thickness of 0.5mm.\n",
    "**Examples:**  \n",
    "`num_layers(1) ➞ \"0.001m\"\n",
    "    # Paper folded once is 1mm (equal to 0.001m)\n",
    "num_layers(4) ➞ \"0.008m\"\n",
    "    # Paper folded 4 times is 8mm (equal to 0.008m)\n",
    "num_layers(21) ➞ \"1048.576m\"\n",
    "    # Paper folded 21 times is 1048576mm (equal to 1048.576m)`"
   ]
  },
  {
   "cell_type": "code",
   "execution_count": 5,
   "id": "54771401-dfdf-41af-8804-3d7fca527a74",
   "metadata": {},
   "outputs": [
    {
     "name": "stdout",
     "output_type": "stream",
     "text": [
      "Output ➞ 0.001m\n",
      "Output ➞ 0.008m\n",
      "Output ➞ 1048.576m\n"
     ]
    }
   ],
   "source": [
    "def num_layers(in_num):\n",
    "    out_num = 0.5\n",
    "    for ele in range(in_num):\n",
    "        out_num *= 2\n",
    "    print(f'Output ➞ {out_num/1000}m')\n",
    "    \n",
    "num_layers(1)\n",
    "num_layers(4)\n",
    "num_layers(21)"
   ]
  },
  {
   "cell_type": "markdown",
   "id": "7cdd1c60-6f21-4258-838c-2b2a36319d0e",
   "metadata": {},
   "source": [
    "#### 4.Create a function that takes a single string as argument and returns an ordered list containing the indices of all capital letters in the string.\n",
    "**Examples:**  \n",
    "`index_of_caps(\"eDaBiT\") ➞ [1, 3, 5]`  \n",
    "`index_of_caps(\"eQuINoX\") ➞ [1, 3, 4, 6]`  \n",
    "`index_of_caps(\"determine\") ➞ []`  \n",
    "`index_of_caps(\"STRIKE\") ➞ [0, 1, 2, 3, 4, 5]`  \n",
    "`index_of_caps(\"sUn\") ➞ [1]`  "
   ]
  },
  {
   "cell_type": "code",
   "execution_count": 7,
   "id": "7c21915f-f063-482e-9c2c-04980f53d9d6",
   "metadata": {},
   "outputs": [
    {
     "name": "stdout",
     "output_type": "stream",
     "text": [
      "eDaBiT ➞ [1, 3, 5]\n",
      "eQuINoX ➞ [1, 3, 4, 6]\n",
      "determine ➞ []\n",
      "STRIKE ➞ [0, 1, 2, 3, 4, 5]\n",
      "sUn ➞ [1]\n"
     ]
    }
   ],
   "source": [
    "def index_of_caps(in_string):\n",
    "    out_string = []\n",
    "    for index,ele in enumerate(in_string):\n",
    "        if ele.isupper():\n",
    "            out_string.append(index)\n",
    "    print(f'{in_string} ➞ {out_string}')\n",
    "\n",
    "index_of_caps(\"eDaBiT\")\n",
    "index_of_caps(\"eQuINoX\")\n",
    "index_of_caps(\"determine\")\n",
    "index_of_caps(\"STRIKE\")\n",
    "index_of_caps(\"sUn\")"
   ]
  },
  {
   "cell_type": "markdown",
   "id": "18feb9c8-fad7-4785-aa8f-e234ace4b4b8",
   "metadata": {},
   "source": [
    "#### 5.Using list comprehensions, create a function that finds all even numbers from 1 to the given number.\n",
    "**Examples:**  \n",
    "`find_even_nums(8) ➞ [2, 4, 6, 8]`  \n",
    "`find_even_nums(4) ➞ [2, 4]`   \n",
    "`find_even_nums(2) ➞ [2]`  "
   ]
  },
  {
   "cell_type": "code",
   "execution_count": 8,
   "id": "64057467-7b6a-4c63-9a71-472c2653c078",
   "metadata": {},
   "outputs": [
    {
     "name": "stdout",
     "output_type": "stream",
     "text": [
      "Output ➞ [2, 4, 6, 8]\n",
      "Output ➞ [2, 4]\n",
      "Output ➞ [2]\n"
     ]
    }
   ],
   "source": [
    "def find_even_nums(in_num):\n",
    "    out_list = [i for i in range(1,in_num+1) if i%2 == 0]\n",
    "    print(f'Output ➞ {out_list}')\n",
    "    \n",
    "find_even_nums(8)\n",
    "find_even_nums(4)\n",
    "find_even_nums(2)"
   ]
  },
  {
   "cell_type": "code",
   "execution_count": null,
   "id": "d35330db-83e5-4dca-8532-29bf02e27e47",
   "metadata": {},
   "outputs": [],
   "source": []
  }
 ],
 "metadata": {
  "kernelspec": {
   "display_name": "Python 3 (ipykernel)",
   "language": "python",
   "name": "python3"
  },
  "language_info": {
   "codemirror_mode": {
    "name": "ipython",
    "version": 3
   },
   "file_extension": ".py",
   "mimetype": "text/x-python",
   "name": "python",
   "nbconvert_exporter": "python",
   "pygments_lexer": "ipython3",
   "version": "3.8.10"
  }
 },
 "nbformat": 4,
 "nbformat_minor": 5
}
