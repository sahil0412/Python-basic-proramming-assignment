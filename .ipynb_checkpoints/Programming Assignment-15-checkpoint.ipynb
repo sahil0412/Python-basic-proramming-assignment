{
 "cells": [
  {
   "cell_type": "markdown",
   "id": "1a3716c4-eca9-481f-8e2c-7b2478f7c887",
   "metadata": {},
   "source": [
    "# Assignment 15 Solutions"
   ]
  },
  {
   "cell_type": "markdown",
   "id": "e0de66bd-eea0-4b79-937b-5dbb2273f5e5",
   "metadata": {},
   "source": [
    "#### 1. Please write a program using generator to print the numbers which can be divisible by 5 and 7 between 0 and n in comma separated form while n is input by console ?  \n",
    "**Example:**  \n",
    "If the following n is given as input to the program: `100`  \n",
    "Then, the output of the program should be: `0,35,70`  "
   ]
  },
  {
   "cell_type": "code",
   "execution_count": 10,
   "id": "ccd60af7-2aa2-4489-9228-54e21a08a36b",
   "metadata": {},
   "outputs": [
    {
     "name": "stdin",
     "output_type": "stream",
     "text": [
      "enter the number 100\n"
     ]
    },
    {
     "name": "stdout",
     "output_type": "stream",
     "text": [
      "Output between 0 and 100 are: 0, 35, 70\n"
     ]
    }
   ],
   "source": [
    "def test_gen(input_num):\n",
    "    for i in range(input_num):\n",
    "        if i%5 == 0  and i%7 == 0:\n",
    "            yield i\n",
    "input_num = int(input(\"enter the number\"))\n",
    "even_numbers = test_gen(input_num)\n",
    "print(\"Output between 0 and\", input_num, \"are:\", end=\" \")\n",
    "print(*even_numbers, sep=\", \")"
   ]
  },
  {
   "cell_type": "markdown",
   "id": "a2527123-a673-4ce4-901b-2acffd16590c",
   "metadata": {},
   "source": [
    "#### 2.Please write a program using generator to print the even numbers between 0 and n in comma separated form while n is input by console ?\n",
    "**Example:**  \n",
    "If the following n is given as input to the program: `10`  \n",
    "Then, the output of the program should be: `0,2,4,6,8,10`"
   ]
  },
  {
   "cell_type": "code",
   "execution_count": 11,
   "id": "58615692-397d-46d6-98b3-c1dd521493f5",
   "metadata": {},
   "outputs": [
    {
     "name": "stdin",
     "output_type": "stream",
     "text": [
      "Enter a number:  10\n"
     ]
    },
    {
     "name": "stdout",
     "output_type": "stream",
     "text": [
      "Even numbers between 0 and 10 are: 0, 2, 4, 6, 8, 10\n"
     ]
    }
   ],
   "source": [
    "def even_numbers_generator(n):\n",
    "    for i in range(n + 1):\n",
    "        if i % 2 == 0:\n",
    "            yield i\n",
    "\n",
    "n = int(input(\"Enter a number: \"))\n",
    "if n < 0:\n",
    "    print(\"Please enter a non-negative number.\")\n",
    "even_numbers = even_numbers_generator(n)\n",
    "print(\"Even numbers between 0 and\", n, \"are:\", end=\" \")\n",
    "print(*even_numbers, sep=\", \")\n"
   ]
  },
  {
   "cell_type": "markdown",
   "id": "50ba223c-0e6e-4449-9e47-5678431f6b0a",
   "metadata": {},
   "source": [
    "#### 3.The Fibonacci Sequence is computed based on the following formula below, Please write a program using list comprehension to print the Fibonacci Sequence in comma separated form with a given n input by console ?\n",
    "`f(n)=0 if n=0\n",
    "f(n)=1 if n=1\n",
    "f(n)=f(n-1)+f(n-2) if n>1` "
   ]
  },
  {
   "cell_type": "code",
   "execution_count": 12,
   "id": "b73103bd-6c0b-49e5-8fb7-3e8bb3c18928",
   "metadata": {},
   "outputs": [
    {
     "name": "stdout",
     "output_type": "stream",
     "text": [
      "[0, 1, 1, 2, 3, 5, 8, 13, 21, 34]\n"
     ]
    }
   ],
   "source": [
    "def genFibonaci(in_num):\n",
    "    if in_num == 0:\n",
    "        return 0\n",
    "    elif in_num == 1:\n",
    "        return 1\n",
    "    else:\n",
    "        return genFibonaci(in_num-1)+genFibonaci(in_num-2)\n",
    "    \n",
    "print([genFibonaci(x) for x in range(10)])"
   ]
  },
  {
   "cell_type": "markdown",
   "id": "93208b64-f88c-42a9-8180-5b7bccf12c64",
   "metadata": {},
   "source": [
    "#### 4.Assuming that we have some email addresses in the \"username@companyname.com\" format, please write program to print the user name of a given email address. Both user names and company names are composed of letters only ?\n",
    "**Example:**   \n",
    "If the following email address is given as input to the program: `john@google.com`   \n",
    "Then, the output of the program should be: `john`"
   ]
  },
  {
   "cell_type": "code",
   "execution_count": 15,
   "id": "37003861-30ef-4224-bd8d-8cf16621dfe6",
   "metadata": {},
   "outputs": [
    {
     "name": "stdin",
     "output_type": "stream",
     "text": [
      "Enter Email Address(es):  john@google.com\n"
     ]
    },
    {
     "name": "stdout",
     "output_type": "stream",
     "text": [
      "Username of john@google.com is john\n"
     ]
    }
   ],
   "source": [
    "def getUsernames():\n",
    "    in_string = input('Enter Email Address(es): ')\n",
    "    out_string = in_string.split('@')\n",
    "    print(f'Username of {in_string} is {out_string[0]}')\n",
    "\n",
    "\n",
    "getUsernames()"
   ]
  },
  {
   "cell_type": "markdown",
   "id": "866d6944-2b20-4058-bf59-d24203fda284",
   "metadata": {},
   "source": [
    "#### 5.Define a class named Shape and its subclass Square. The Square class has an init function which takes a length as argument. Both classes have a area function which can print the area of the shape where Shape's area is 0 by default."
   ]
  },
  {
   "cell_type": "code",
   "execution_count": 23,
   "id": "ebbbf639-530b-416a-bd44-b7742bd65e20",
   "metadata": {},
   "outputs": [
    {
     "name": "stdout",
     "output_type": "stream",
     "text": [
      "Area of Square is: 2500\n"
     ]
    }
   ],
   "source": [
    "class Shape:\n",
    "    def __init__():\n",
    "        self.area = 0\n",
    "    def Area(self):\n",
    "        print(\"Area of Shape is:\", self.area)\n",
    "class Square(Shape):\n",
    "    def __init__(self, length):\n",
    "        self.length = length\n",
    "        self.area = 0\n",
    "    def Area(self):\n",
    "        self.area = self.length * self.length\n",
    "        print(\"Area of Square is:\", self.area)\n",
    "square = Square(50)\n",
    "square.Area()"
   ]
  },
  {
   "cell_type": "code",
   "execution_count": null,
   "id": "cdaa68bc-7e60-43c7-bc00-2950828c4cc0",
   "metadata": {},
   "outputs": [],
   "source": []
  }
 ],
 "metadata": {
  "kernelspec": {
   "display_name": "Python 3 (ipykernel)",
   "language": "python",
   "name": "python3"
  },
  "language_info": {
   "codemirror_mode": {
    "name": "ipython",
    "version": 3
   },
   "file_extension": ".py",
   "mimetype": "text/x-python",
   "name": "python",
   "nbconvert_exporter": "python",
   "pygments_lexer": "ipython3",
   "version": "3.8.10"
  }
 },
 "nbformat": 4,
 "nbformat_minor": 5
}
