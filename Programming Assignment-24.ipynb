{
 "cells": [
  {
   "cell_type": "markdown",
   "id": "2dab77ea-6078-453e-9026-5d1f0a1c2f28",
   "metadata": {},
   "source": [
    "# Assignment 24 Solutions"
   ]
  },
  {
   "cell_type": "markdown",
   "id": "f3c68528-22d2-4c7b-ab46-1ed6b2304772",
   "metadata": {},
   "source": [
    "#### 1.Create a function that takes an integer and returns a list from 1 to the given number, where:\n",
    "1.If the number can be divided evenly by 4, amplify it by 10 (i.e. return 10 times the number).  \n",
    "2.If the number cannot be divided evenly by 4, simply return the number. \n",
    "\n",
    "**Examples:**  \n",
    "`amplify(4) ➞ [1, 2, 3, 40]`  \n",
    "`amplify(3) ➞ [1, 2, 3]`  \n",
    "`amplify(25) ➞ [1, 2, 3, 40, 5, 6, 7, 80, 9, 10, 11, 120, 13, 14, 15, 160, 17, 18, 19, 200, 21, 22, 23, 240, 25]`\n",
    "\n",
    "**Notes:**  \n",
    "    1.The given integer will always be equal to or greater than 1.  \n",
    "    2.Include the number (see example above).  \n",
    "    3.To perform this problem with its intended purpose, try doing it with list"
   ]
  },
  {
   "cell_type": "code",
   "execution_count": 1,
   "id": "9267fc44-ee41-45ba-a810-3178c6b0dddf",
   "metadata": {},
   "outputs": [
    {
     "name": "stdout",
     "output_type": "stream",
     "text": [
      "4 ➞ [1, 2, 3, 40]\n",
      "3 ➞ [1, 2, 3]\n",
      "25 ➞ [1, 2, 3, 40, 5, 6, 7, 80, 9, 10, 11, 120, 13, 14, 15, 160, 17, 18, 19, 200, 21, 22, 23, 240, 25]\n"
     ]
    }
   ],
   "source": [
    "def amplify(in_num):\n",
    "    out_list = []\n",
    "    for ele in range(1,in_num+1):\n",
    "        if ele%4 == 0:\n",
    "            out_list.append(ele*10)\n",
    "        else:\n",
    "            out_list.append(ele)\n",
    "    print(f'{in_num} ➞ {out_list}')\n",
    "            \n",
    "amplify(4)\n",
    "amplify(3)\n",
    "amplify(25)"
   ]
  },
  {
   "cell_type": "markdown",
   "id": "c7ab6d5e-6606-4d9e-8174-d8020453ad98",
   "metadata": {},
   "source": [
    "#### 2.Create a function that takes a list of numbers and return the number that's unique.\n",
    "**Examples:**  \n",
    "`unique([3, 3, 3, 7, 3, 3]) ➞ 7`  \n",
    "`unique([0, 0, 0.77, 0, 0]) ➞ 0.77`  \n",
    "`unique([0, 1, 1, 1, 1, 1, 1, 1]) ➞ 0`  \n",
    "\n",
    "**Notes:**  \n",
    "Test cases will always have exactly one unique number while all others are the same."
   ]
  },
  {
   "cell_type": "code",
   "execution_count": 3,
   "id": "c218cb12-0f2a-406b-9cb9-cdb57fb4d200",
   "metadata": {},
   "outputs": [
    {
     "name": "stdout",
     "output_type": "stream",
     "text": [
      "Unique number: 7\n",
      "Unique number: 0.77\n",
      "Unique number: 0\n"
     ]
    }
   ],
   "source": [
    "from collections import Counter\n",
    "\n",
    "def unique(numbers):\n",
    "    counts = Counter(numbers)\n",
    "    for num, count in counts.items():\n",
    "        if count == 1:\n",
    "            return num\n",
    "\n",
    "print(\"Unique number:\", unique([3, 3, 3, 7, 3, 3]))\n",
    "print(\"Unique number:\", unique([0, 0, 0.77, 0, 0]))\n",
    "print(\"Unique number:\", unique([0, 1, 1, 1, 1, 1, 1, 1]))\n",
    "\n"
   ]
  },
  {
   "cell_type": "markdown",
   "id": "b525d060-fa2e-4101-8086-257e73871641",
   "metadata": {},
   "source": [
    "#### 3.Your task is to create a Circle constructor that creates a circle with a radius provided by an argument. The circles constructed must have two getters `getArea() (PIr^2)` and `getPerimeter() (2PI*r)` which give both respective areas and perimeter (circumference). For help with this class, I have provided you with a Rectangle constructor which you can use as a base example ?\n",
    "**Examples:**  \n",
    "`circy = Circle(11)`   \n",
    "`circy.getArea()`  \n",
    "    # Should return 380.132711084365\n",
    "`circy = Circle(4.44)`  \n",
    "`circy.getPerimeter()`  \n",
    "    # Should return 27.897342763877365\n",
    "\n",
    "**Notes:**  \n",
    "Round results up to the nearest integer."
   ]
  },
  {
   "cell_type": "code",
   "execution_count": 6,
   "id": "55198fc0-0084-49f9-9809-c8a349d4846e",
   "metadata": {},
   "outputs": [
    {
     "name": "stdout",
     "output_type": "stream",
     "text": [
      "Radius ➞ 380\n",
      "Perimeter ➞ 28\n"
     ]
    }
   ],
   "source": [
    "import math\n",
    "\n",
    "class Circle:\n",
    "    def __init__(self, radius):\n",
    "        self.radius = radius\n",
    "    def getArea(self):\n",
    "        print(f'Radius ➞ {round(math.pi*self.radius*self.radius)}')\n",
    "    def getPerimeter(self):\n",
    "        print(f'Perimeter ➞ {round(2*math.pi*self.radius)}')\n",
    "    \n",
    "circle1 = Circle(11)\n",
    "circle1.getArea()\n",
    "\n",
    "circle2 = Circle(4.44)\n",
    "circle2.getPerimeter()"
   ]
  },
  {
   "cell_type": "markdown",
   "id": "39f0b838-331f-42e3-8533-d2ec628f8c8a",
   "metadata": {},
   "source": [
    "#### 4.Create a function that takes a list of strings and return a list, sorted from shortest to longest.\n",
    "**Examples:**  \n",
    "`sort_by_length([\"Google\", \"Apple\", \"Microsoft\"])`  \n",
    "`➞ [\"Apple\", \"Google\", \"Microsoft\"]`  \n",
    "`sort_by_length([\"Leonardo\", \"Michelangelo\", \"Raphael\", \"Donatello\"])`  \n",
    "`➞ [\"Raphael\", \"Leonardo\", \"Donatello\", \"Michelangelo\"]`  \n",
    "`sort_by_length([\"Turing\", \"Einstein\", \"Jung\"])`  \n",
    "`➞ [\"Jung\", \"Turing\", \"Einstein\"]`  \n",
    "\n",
    "**Notes:**  \n",
    "All test cases contain lists with strings of different lengths, so you won't have to deal with\n",
    "multiple strings of the same length."
   ]
  },
  {
   "cell_type": "code",
   "execution_count": 8,
   "id": "39c9ef4b-3c83-48aa-9bab-bc4ebf75778c",
   "metadata": {},
   "outputs": [
    {
     "name": "stdout",
     "output_type": "stream",
     "text": [
      "['Apple', 'Google', 'Microsoft']\n",
      "['Raphael', 'Leonardo', 'Donatello', 'Michelangelo']\n",
      "['Jung', 'Turing', 'Einstein']\n"
     ]
    }
   ],
   "source": [
    "def sort_by_length(input_lst):\n",
    "    print(sorted(input_lst,key=len))\n",
    "sort_by_length([\"Google\", \"Apple\", \"Microsoft\"])\n",
    "sort_by_length([\"Leonardo\", \"Michelangelo\", \"Raphael\", \"Donatello\"])\n",
    "sort_by_length([\"Turing\", \"Einstein\", \"Jung\"])"
   ]
  },
  {
   "cell_type": "markdown",
   "id": "f0c42474-6f48-4bbc-a06f-946530a99899",
   "metadata": {},
   "source": [
    "#### 5.Create a function that validates whether three given integers form a Pythagorean triplet. The sum of the squares of the two smallest integers must equal the square of the largest number to be validated.\n",
    "**Examples:**  \n",
    "`is_triplet(3, 4, 5) ➞ True\n",
    "    # 3² + 4² = 25\n",
    "    # 5² = 25\n",
    "is_triplet(13, 5, 12) ➞ True\n",
    "    # 5² + 12² = 169\n",
    "    # 13² = 169\n",
    "is_triplet(1, 2, 3) ➞ False\n",
    "    # 1² + 2² = 5\n",
    "    # 3² = 9`\n",
    "    \n",
    "**Notes:**\n",
    "Numbers may not be given in a sorted order."
   ]
  },
  {
   "cell_type": "code",
   "execution_count": 11,
   "id": "0e774be9-3dec-4c0d-b8ef-632444f59f7b",
   "metadata": {},
   "outputs": [
    {
     "name": "stdout",
     "output_type": "stream",
     "text": [
      "(3, 4, 5) ➞ True\n",
      "(3, 4, 5) ➞ True\n",
      "(1, 2, 3) ➞ False\n"
     ]
    }
   ],
   "source": [
    "def is_triplet(a,b,c):\n",
    "    a,b,c = sorted([a,b,c])\n",
    "    if ((a**2+b**2) == (c**2)):\n",
    "        print(f'{a,b,c} ➞ {True}')\n",
    "    else:\n",
    "        print(f'{a,b,c} ➞ {False}')\n",
    "        \n",
    "is_triplet(3, 4, 5)\n",
    "is_triplet(3, 4, 5)\n",
    "is_triplet(1, 2, 3)"
   ]
  },
  {
   "cell_type": "code",
   "execution_count": null,
   "id": "bbd95b2d-c2cf-40a6-9611-9bb9bbce8513",
   "metadata": {},
   "outputs": [],
   "source": []
  }
 ],
 "metadata": {
  "kernelspec": {
   "display_name": "Python 3 (ipykernel)",
   "language": "python",
   "name": "python3"
  },
  "language_info": {
   "codemirror_mode": {
    "name": "ipython",
    "version": 3
   },
   "file_extension": ".py",
   "mimetype": "text/x-python",
   "name": "python",
   "nbconvert_exporter": "python",
   "pygments_lexer": "ipython3",
   "version": "3.8.10"
  }
 },
 "nbformat": 4,
 "nbformat_minor": 5
}
