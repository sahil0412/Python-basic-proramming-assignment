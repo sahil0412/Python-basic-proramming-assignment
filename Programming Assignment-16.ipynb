{
 "cells": [
  {
   "cell_type": "markdown",
   "id": "70ca7d51-a6ac-4571-bf72-e4440b823256",
   "metadata": {},
   "source": [
    "# Assignment 16 Solutions"
   ]
  },
  {
   "cell_type": "markdown",
   "id": "ffd391f5-52b4-4f0a-bacb-4d264f7f4e71",
   "metadata": {},
   "source": [
    "#### 1.Write a function that stutters a word as if someone is struggling to read it. The first two letters are repeated twice with an ellipsis ... and space after each, and then the word is pronounced with a question mark ?\n",
    "**Examples:**\n",
    "`stutter(\"incredible\") ➞ \"in... in... incredible?\"`  \n",
    "`stutter(\"enthusiastic\") ➞ \"en... en... enthusiastic?\"`  \n",
    "`stutter(\"outstanding\") ➞ \"ou... ou... outstanding?\"`  \n",
    "\n",
    "Hint :- Assume all input is in lower case and at least two characters long."
   ]
  },
  {
   "cell_type": "code",
   "execution_count": 1,
   "id": "0ff0af71-6c60-4e29-9b6b-4910476d75fc",
   "metadata": {},
   "outputs": [
    {
     "name": "stdin",
     "output_type": "stream",
     "text": [
      "Enter the Word : incredible\n"
     ]
    },
    {
     "name": "stdout",
     "output_type": "stream",
     "text": [
      "incredible ➞ in... in... incredible?\n"
     ]
    },
    {
     "name": "stdin",
     "output_type": "stream",
     "text": [
      "Enter the Word : enthusiastic\n"
     ]
    },
    {
     "name": "stdout",
     "output_type": "stream",
     "text": [
      "enthusiastic ➞ en... en... enthusiastic?\n"
     ]
    },
    {
     "name": "stdin",
     "output_type": "stream",
     "text": [
      "Enter the Word : outstanding\n"
     ]
    },
    {
     "name": "stdout",
     "output_type": "stream",
     "text": [
      "outstanding ➞ ou... ou... outstanding?\n"
     ]
    }
   ],
   "source": [
    "def stutterWord():\n",
    "    in_string = input('Enter the Word :')\n",
    "    out_string = in_string.replace(in_string[0:2],((in_string[0:2]+'... ')*2)+ in_string[0:2])  +'?'\n",
    "    print(f'{in_string} ➞ {out_string}')\n",
    "\n",
    "for i in range(3):\n",
    "    stutterWord()"
   ]
  },
  {
   "cell_type": "markdown",
   "id": "6f90c1b2-0894-49da-969c-f749c56011f0",
   "metadata": {},
   "source": [
    "#### 2..Create a function that takes an angle in radians and returns the corresponding angle in degrees rounded to one decimal place ?\n",
    "**Examples:**\n",
    "`radians_to_degrees(1) ➞ 57.3`  \n",
    "`radians_to_degrees(20) ➞ 1145.9`  \n",
    "`radians_to_degrees(50) ➞ 2864.8`  "
   ]
  },
  {
   "cell_type": "code",
   "execution_count": 2,
   "id": "75d95054-bc6b-48a6-8ea4-85f42686914d",
   "metadata": {},
   "outputs": [
    {
     "name": "stdin",
     "output_type": "stream",
     "text": [
      "Enter the angle in Radians:  1\n"
     ]
    },
    {
     "name": "stdout",
     "output_type": "stream",
     "text": [
      "1 radian(s) ➞ 57.3 degrees\n"
     ]
    },
    {
     "name": "stdin",
     "output_type": "stream",
     "text": [
      "Enter the angle in Radians:  20\n"
     ]
    },
    {
     "name": "stdout",
     "output_type": "stream",
     "text": [
      "20 radian(s) ➞ 1145.9 degrees\n"
     ]
    },
    {
     "name": "stdin",
     "output_type": "stream",
     "text": [
      "Enter the angle in Radians:  50\n"
     ]
    },
    {
     "name": "stdout",
     "output_type": "stream",
     "text": [
      "50 radian(s) ➞ 2864.8 degrees\n"
     ]
    }
   ],
   "source": [
    "import math\n",
    "def radianToDegree():\n",
    "    in_num = int(input('Enter the angle in Radians: '))\n",
    "    out_num = (180/math.pi)*in_num\n",
    "    print(f'{in_num} radian(s) ➞ {out_num:.1f} degrees')\n",
    "\n",
    "for x in range(3):\n",
    "    radianToDegree()"
   ]
  },
  {
   "cell_type": "markdown",
   "id": "df36cb27-148e-48a5-8f05-3e177a44b3be",
   "metadata": {},
   "source": [
    "#### 3.In this challenge, establish if a given integer num is a Curzon number. If 1 plus 2 elevated to num is exactly divisible by 1 plus 2 multiplied by num, then num is a Curzon number. Given a non-negative integer num, implement a function that returns True if num is a Curzon number, or False otherwise. \n",
    "**Examples**: \n",
    "`is_curzon(5) ➞ True\n",
    "    # 2 ** 5 + 1 = 33\n",
    "    # 2 * 5 + 1 = 11\n",
    "    # 33 is a multiple of 11\n",
    "is_curzon(10) ➞ False\n",
    "    # 2 ** 10 + 1 = 1025\n",
    "    # 2 * 10 + 1 = 21\n",
    "    # 1025 is not a multiple of 21\n",
    "is_curzon(14) ➞ True\n",
    "    # 2 ** 14 + 1 = 16385\n",
    "    # 2 * 14 + 1 = 29\n",
    "    # 16385 is a multiple of 29`"
   ]
  },
  {
   "cell_type": "code",
   "execution_count": 4,
   "id": "2652c42b-592a-476d-97a5-43d47b9deb9d",
   "metadata": {},
   "outputs": [
    {
     "name": "stdin",
     "output_type": "stream",
     "text": [
      "Enter a non-negative integer:  10\n"
     ]
    },
    {
     "name": "stdout",
     "output_type": "stream",
     "text": [
      "10 is a Curzon number: False\n"
     ]
    }
   ],
   "source": [
    "def is_curzon(num):\n",
    "    return (2**num + 1) % (2*num + 1) == 0\n",
    "\n",
    "num = int(input(\"Enter a non-negative integer: \"))\n",
    "if num < 0:\n",
    "    print(\"Please enter a non-negative integer.\")\n",
    "else:\n",
    "    print(f\"{num} is a Curzon number:\", is_curzon(num))\n"
   ]
  },
  {
   "cell_type": "markdown",
   "id": "f28fcf40-073a-4a0d-8e86-f92e0077ea71",
   "metadata": {},
   "source": [
    "#### 4.Given the side length x find the area of a hexagon ?\n",
    "**Examples:**\n",
    "`area_of_hexagon(1) ➞ 2.6`  \n",
    "`area_of_hexagon(2) ➞ 10.4`  \n",
    "`area_of_hexagon(3) ➞ 23.4`  "
   ]
  },
  {
   "cell_type": "code",
   "execution_count": 7,
   "id": "d21e3088-562f-4b3f-950c-51a3636a70fa",
   "metadata": {},
   "outputs": [
    {
     "name": "stdin",
     "output_type": "stream",
     "text": [
      "Enter the side length of the hexagon:  1\n"
     ]
    },
    {
     "name": "stdout",
     "output_type": "stream",
     "text": [
      "Area of the hexagon: 2.6\n"
     ]
    },
    {
     "name": "stdin",
     "output_type": "stream",
     "text": [
      "Enter the side length of the hexagon:  2\n"
     ]
    },
    {
     "name": "stdout",
     "output_type": "stream",
     "text": [
      "Area of the hexagon: 10.4\n"
     ]
    },
    {
     "name": "stdin",
     "output_type": "stream",
     "text": [
      "Enter the side length of the hexagon:  3\n"
     ]
    },
    {
     "name": "stdout",
     "output_type": "stream",
     "text": [
      "Area of the hexagon: 23.4\n"
     ]
    }
   ],
   "source": [
    "import math\n",
    "\n",
    "def area_of_hexagon(side_length):\n",
    "    area = (3 * math.sqrt(3) / 2) * side_length ** 2\n",
    "    return round(area, 1)\n",
    "\n",
    "for i in range(3):\n",
    "    side_length = float(input(\"Enter the side length of the hexagon: \"))\n",
    "    if side_length <= 0:\n",
    "        print(\"Please enter a positive value for side length.\")\n",
    "    else:\n",
    "        print(\"Area of the hexagon:\", area_of_hexagon(side_length))\n"
   ]
  },
  {
   "cell_type": "markdown",
   "id": "b3d0e2dd-130e-4db4-b377-13405082ac3a",
   "metadata": {},
   "source": [
    "#### 5.Create a function that returns a base-2 (binary) representation of a base-10 (decimal) string number. To convert is simple:\n",
    "((2) means base-2 and (10) means base-10)  \n",
    "`010101001(2) = 1 + 8 + 32 + 128.`    \n",
    "Going from right to left, the value of the most right bit is 1, now from that every bit to the left will be x2 the value, value of an 8 bit binary numbers are (256, 128, 64, 32, 16, 8, 4, 2, 1).  \n",
    "**Examples:**  \n",
    "`binary(1) ➞ \"1\"\n",
    "    # 1* 1 = 1\n",
    "binary(5) ➞ \"101\"\n",
    "    # 1 1 + 1 4 = 5\n",
    "binary(10) ➞ \"1010\"\n",
    "    # 1 2 + 1 8 = 10`"
   ]
  },
  {
   "cell_type": "code",
   "execution_count": 8,
   "id": "5c2f477d-9af3-42f6-bf31-e1aa03e689f6",
   "metadata": {},
   "outputs": [
    {
     "name": "stdin",
     "output_type": "stream",
     "text": [
      "Enter a Number:  1\n"
     ]
    },
    {
     "name": "stdout",
     "output_type": "stream",
     "text": [
      "Binary of 1 ➞ 1\n"
     ]
    },
    {
     "name": "stdin",
     "output_type": "stream",
     "text": [
      "Enter a Number:  5\n"
     ]
    },
    {
     "name": "stdout",
     "output_type": "stream",
     "text": [
      "Binary of 5 ➞ 101\n"
     ]
    },
    {
     "name": "stdin",
     "output_type": "stream",
     "text": [
      "Enter a Number:  10\n"
     ]
    },
    {
     "name": "stdout",
     "output_type": "stream",
     "text": [
      "Binary of 10 ➞ 1010\n"
     ]
    }
   ],
   "source": [
    "def getBinary():\n",
    "    in_num = int(input(\"Enter a Number: \"))\n",
    "    out_num = bin(in_num).replace('0b','') \n",
    "    print(f'Binary of {in_num} ➞ {out_num}')\n",
    "\n",
    "for x in range(3):\n",
    "    getBinary()"
   ]
  },
  {
   "cell_type": "code",
   "execution_count": null,
   "id": "9e8f9d54-ec2b-4d91-9fb9-70f80915672d",
   "metadata": {},
   "outputs": [],
   "source": []
  }
 ],
 "metadata": {
  "kernelspec": {
   "display_name": "Python 3 (ipykernel)",
   "language": "python",
   "name": "python3"
  },
  "language_info": {
   "codemirror_mode": {
    "name": "ipython",
    "version": 3
   },
   "file_extension": ".py",
   "mimetype": "text/x-python",
   "name": "python",
   "nbconvert_exporter": "python",
   "pygments_lexer": "ipython3",
   "version": "3.8.10"
  }
 },
 "nbformat": 4,
 "nbformat_minor": 5
}
