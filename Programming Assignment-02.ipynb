{
 "cells": [
  {
   "cell_type": "markdown",
   "id": "235a6e0b-1df3-4bb6-a271-4ded609ad699",
   "metadata": {},
   "source": [
    "# Assignment 2 Solutions"
   ]
  },
  {
   "cell_type": "markdown",
   "id": "ce6fd6d4-0a8e-493c-9533-db0354c68b0a",
   "metadata": {},
   "source": [
    "#### 1.Write a Python program to convert Kilometers to Miles ?"
   ]
  },
  {
   "cell_type": "code",
   "execution_count": 1,
   "id": "f77d947e-71db-4e88-bba2-19fb8bb67f9b",
   "metadata": {},
   "outputs": [
    {
     "name": "stdin",
     "output_type": "stream",
     "text": [
      "Enter no of kilometers :  10\n"
     ]
    },
    {
     "name": "stdout",
     "output_type": "stream",
     "text": [
      "10.0 km is Equal to 6.21 miles\n"
     ]
    }
   ],
   "source": [
    "def kmToMiles():\n",
    "    kiloMeters = float(input(\"Enter no of kilometers : \"))\n",
    "    print(\"{} km is Equal to {} miles\".format(kiloMeters,kiloMeters*0.621))\n",
    "\n",
    "kmToMiles()"
   ]
  },
  {
   "cell_type": "markdown",
   "id": "955da717-c2ff-450f-9955-d170c6865685",
   "metadata": {},
   "source": [
    "#### 2.Write a Python program to convert Celsius to Farenheit ?"
   ]
  },
  {
   "cell_type": "code",
   "execution_count": 2,
   "id": "50ff68f4-c9ac-4996-b89c-060b6da62205",
   "metadata": {},
   "outputs": [
    {
     "name": "stdin",
     "output_type": "stream",
     "text": [
      "Enter temperature in Celsius:  32\n"
     ]
    },
    {
     "name": "stdout",
     "output_type": "stream",
     "text": [
      "32.0 degrees Celsius is equal to 89.6 degrees Fahrenheit.\n"
     ]
    }
   ],
   "source": [
    "def celsius_to_fahrenheit(celsius):\n",
    "    fahrenheit = (celsius * 9/5) + 32\n",
    "    return fahrenheit\n",
    "\n",
    "# Example usage\n",
    "celsius = float(input(\"Enter temperature in Celsius: \"))\n",
    "fahrenheit = celsius_to_fahrenheit(celsius)\n",
    "print(f\"{celsius} degrees Celsius is equal to {fahrenheit} degrees Fahrenheit.\")\n"
   ]
  },
  {
   "cell_type": "markdown",
   "id": "54baf60f-d8f8-48fb-bcf0-71a2868473cd",
   "metadata": {},
   "source": [
    "#### 3.Write a Python program to display calender ?"
   ]
  },
  {
   "cell_type": "code",
   "execution_count": 3,
   "id": "5d276819-b8bb-485c-936d-fac0375ca95a",
   "metadata": {},
   "outputs": [
    {
     "name": "stdin",
     "output_type": "stream",
     "text": [
      "Enter the year:  2024\n",
      "Enter the month (1-12):  3\n"
     ]
    },
    {
     "name": "stdout",
     "output_type": "stream",
     "text": [
      "Calendar:\n",
      "     March 2024\n",
      "Mo Tu We Th Fr Sa Su\n",
      "             1  2  3\n",
      " 4  5  6  7  8  9 10\n",
      "11 12 13 14 15 16 17\n",
      "18 19 20 21 22 23 24\n",
      "25 26 27 28 29 30 31\n",
      "\n"
     ]
    }
   ],
   "source": [
    "import calendar\n",
    "\n",
    "def display_calendar(year, month):\n",
    "    # Generate the calendar for the specified month and year\n",
    "    cal = calendar.month(year, month)\n",
    "    # Print the calendar\n",
    "    print(\"Calendar:\")\n",
    "    print(cal)\n",
    "\n",
    "# Example usage\n",
    "year = int(input(\"Enter the year: \"))\n",
    "month = int(input(\"Enter the month (1-12): \"))\n",
    "display_calendar(year, month)\n"
   ]
  },
  {
   "cell_type": "markdown",
   "id": "dd7a0ddd-aca0-441e-8c44-a7b7951a1fd2",
   "metadata": {},
   "source": [
    "#### 4.Write a Python program to solve quadartic equation ?"
   ]
  },
  {
   "cell_type": "code",
   "execution_count": 6,
   "id": "8de2698f-f79b-4c46-bb69-0ea99bef57ca",
   "metadata": {},
   "outputs": [
    {
     "name": "stdin",
     "output_type": "stream",
     "text": [
      "Enter the coefficient of x^2 (a):  5\n",
      "Enter the coefficient of x (b):  6\n",
      "Enter the constant term (c):  1\n"
     ]
    },
    {
     "name": "stdout",
     "output_type": "stream",
     "text": [
      "Root 1: -0.2\n",
      "Root 2: -1.0\n"
     ]
    }
   ],
   "source": [
    "import math\n",
    "\n",
    "def solve_quadratic(a, b, c):\n",
    "    # Calculate the discriminant\n",
    "    discriminant = b**2 - 4*a*c\n",
    "    \n",
    "    # Check if the discriminant is positive, zero, or negative\n",
    "    if discriminant > 0:\n",
    "        # Two real and distinct roots\n",
    "        root1 = (-b + math.sqrt(discriminant)) / (2*a)\n",
    "        root2 = (-b - math.sqrt(discriminant)) / (2*a)\n",
    "        return root1, root2\n",
    "    elif discriminant == 0:\n",
    "        # One real root (repeated)\n",
    "        root = -b / (2*a)\n",
    "        return root, root\n",
    "    else:\n",
    "        # Complex roots\n",
    "        real_part = -b / (2*a)\n",
    "        imaginary_part = math.sqrt(abs(discriminant)) / (2*a)\n",
    "        root1 = complex(real_part, imaginary_part)\n",
    "        root2 = complex(real_part, -imaginary_part)\n",
    "        return root1, root2\n",
    "\n",
    "# Example usage\n",
    "a = float(input(\"Enter the coefficient of x^2 (a): \"))\n",
    "b = float(input(\"Enter the coefficient of x (b): \"))\n",
    "c = float(input(\"Enter the constant term (c): \"))\n",
    "\n",
    "root1, root2 = solve_quadratic(a, b, c)\n",
    "print(\"Root 1:\", root1)\n",
    "print(\"Root 2:\", root2)\n"
   ]
  },
  {
   "cell_type": "markdown",
   "id": "f6c220dd-6cea-40f4-8e43-b40d20676238",
   "metadata": {},
   "source": [
    "#### 5.Write a Python program to swap two variables without temp variable ?"
   ]
  },
  {
   "cell_type": "code",
   "execution_count": 8,
   "id": "01246ca6-b2ff-4788-a763-637e2f2edd98",
   "metadata": {},
   "outputs": [
    {
     "name": "stdin",
     "output_type": "stream",
     "text": [
      "Enter first number:  1\n",
      "Enter second number:  2\n"
     ]
    },
    {
     "name": "stdout",
     "output_type": "stream",
     "text": [
      "Before swapppin num 1 is 1 and num 2 is 2\n",
      "After swapppin num 1 is 2 and num 2 is 1\n"
     ]
    }
   ],
   "source": [
    "num_1 = int(input('Enter first number: '))\n",
    "num_2 = int(input('Enter second number: '))\n",
    "\n",
    "\n",
    "def swapNumbers(num_1,num_2):\n",
    "        return num_2, num_1\n",
    "\n",
    "print(f\"Before swapppin num 1 is {num_1} and num 2 is {num_2}\")\n",
    "num_1, num_2 = swapNumbers(num_1,num_2)\n",
    "print(f\"After swapppin num 1 is {num_1} and num 2 is {num_2}\")"
   ]
  },
  {
   "cell_type": "code",
   "execution_count": null,
   "id": "4caaab49-e067-4684-bd92-27bb3aa0313e",
   "metadata": {},
   "outputs": [],
   "source": []
  }
 ],
 "metadata": {
  "kernelspec": {
   "display_name": "Python 3 (ipykernel)",
   "language": "python",
   "name": "python3"
  },
  "language_info": {
   "codemirror_mode": {
    "name": "ipython",
    "version": 3
   },
   "file_extension": ".py",
   "mimetype": "text/x-python",
   "name": "python",
   "nbconvert_exporter": "python",
   "pygments_lexer": "ipython3",
   "version": "3.8.10"
  }
 },
 "nbformat": 4,
 "nbformat_minor": 5
}
