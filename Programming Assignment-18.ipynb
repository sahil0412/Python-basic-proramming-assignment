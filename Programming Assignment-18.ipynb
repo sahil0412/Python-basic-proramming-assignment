{
 "cells": [
  {
   "cell_type": "markdown",
   "id": "c61bbe12-2b29-401c-a20f-99d623bea7d3",
   "metadata": {},
   "source": [
    "# Assignment 18 Solutions"
   ]
  },
  {
   "cell_type": "markdown",
   "id": "f609e4cf-b7e4-42cc-8941-13efd0d2cffe",
   "metadata": {},
   "source": [
    "#### 1.Create a function that takes a list of non-negative integers and strings and return a new list without the strings ?\n",
    "**Examples:**  \n",
    "`filter_list([1, 2, \"a\", \"b\"]) ➞ [1, 2]`  \n",
    "`filter_list([1, \"a\", \"b\", 0, 15]) ➞ [1, 0, 15]`  \n",
    "`filter_list([1, 2, \"aasf\", \"1\", \"123\", 123]) ➞ [1, 2, 123]`  "
   ]
  },
  {
   "cell_type": "code",
   "execution_count": 1,
   "id": "387184e8-2463-4b28-aedf-bcab9862296f",
   "metadata": {},
   "outputs": [
    {
     "name": "stdout",
     "output_type": "stream",
     "text": [
      "➞ [1, 2]\n",
      "➞ [1, 0, 15]\n",
      "➞ [1, 2, 123]\n"
     ]
    }
   ],
   "source": [
    "def filter_list(list):\n",
    "    out_string = []\n",
    "    for ele in list:\n",
    "        if type(ele) == int and ele >= 0:\n",
    "            out_string.append(ele)\n",
    "    return out_string\n",
    "            \n",
    "print(f'➞ {filter_list([1, 2, \"a\", \"b\"])}')\n",
    "print(f'➞ {filter_list([1, \"a\", \"b\", 0, 15])}')\n",
    "print(f'➞ {filter_list([1, 2, \"aasf\", \"1\", \"123\", 123])}')"
   ]
  },
  {
   "cell_type": "markdown",
   "id": "9db28d1e-ae9c-499a-b52f-3a33b72c11fb",
   "metadata": {},
   "source": [
    "#### 2. The \"Reverser\" takes a string as input and returns that string in reverse order, with the opposite case ?\n",
    "**Examples:**  \n",
    "`reverse(\"Hello World\") ➞ \"DLROw OLLEh\"`  \n",
    "`reverse(\"ReVeRsE\") ➞ \"eSrEvEr\"`  \n",
    "`reverse(\"Radar\") ➞ \"RADAr\"`  "
   ]
  },
  {
   "cell_type": "code",
   "execution_count": 2,
   "id": "75654b92-44fe-4c34-afa7-69b949349c85",
   "metadata": {},
   "outputs": [
    {
     "name": "stdout",
     "output_type": "stream",
     "text": [
      "DLROw OLLEh\n",
      "eSrEvEr\n",
      "RADAr\n"
     ]
    }
   ],
   "source": [
    "def reverser(input_string):\n",
    "    output_string = input_string[::-1]\n",
    "    return output_string.swapcase()\n",
    "\n",
    "print(reverser(\"Hello World\"))\n",
    "print(reverser(\"ReVeRsE\"))\n",
    "print(reverser(\"Radar\"))"
   ]
  },
  {
   "cell_type": "markdown",
   "id": "d7c1fdd0-64dd-4afd-b68b-7f5958d8f3b7",
   "metadata": {},
   "source": [
    "#### 3.You can assign variables from lists like this:\n",
    "`lst = [1, 2, 3, 4, 5, 6]\n",
    "first = lst[0]\n",
    "middle = lst[1:-1]\n",
    "last = lst[-1]\n",
    "print(first) ➞ outputs 1\n",
    "print(middle) ➞ outputs [2, 3, 4, 5]\n",
    "print(last) ➞ outputs 6`  \n",
    "With Python 3, you can assign variables from lists in a much more succinct way. Create variables first, middle and last from the given list using destructuring assignment  \n",
    "(check the Resources tab for some examples), where:  \n",
    "`first ➞ 1\n",
    "middle ➞ [2, 3, 4, 5]\n",
    "last ➞ 6`  \n",
    "Your task is to unpack the list writeyourcodehere into three variables, being first,\n",
    "middle, and last, with middle being everything in between the first and last element. Then\n",
    "print all three variables."
   ]
  },
  {
   "cell_type": "code",
   "execution_count": 3,
   "id": "00ae4a2a-3d6c-43e3-83c5-6b97c2f3a35f",
   "metadata": {},
   "outputs": [
    {
     "name": "stdout",
     "output_type": "stream",
     "text": [
      "first ➞ 1\n",
      "middle ➞ [2, 3, 4, 5]\n",
      "last ➞ 6\n"
     ]
    }
   ],
   "source": [
    "first, *middle, last = [1,2,3,4,5,6]\n",
    "print(f'first ➞ {first}')\n",
    "print(f'middle ➞ {middle}')\n",
    "print(f'last ➞ {last}')"
   ]
  },
  {
   "cell_type": "markdown",
   "id": "38411ac0-998c-42ca-a97b-e1457ee716a7",
   "metadata": {},
   "source": [
    "#### 4.Write a function that calculates the factorial of a number recursively.\n",
    "**Examples:**  \n",
    "`factorial(5) ➞ 120`  \n",
    "`factorial(3) ➞ 6`  \n",
    "`factorial(1) ➞ 1`  \n",
    "`factorial(0) ➞ 1`  "
   ]
  },
  {
   "cell_type": "code",
   "execution_count": 6,
   "id": "e8776f09-ef8b-4545-875b-b85b4a25e128",
   "metadata": {},
   "outputs": [
    {
     "name": "stdout",
     "output_type": "stream",
     "text": [
      "factorial(5) ➞ 120\n",
      "factorial(4) ➞ 24\n",
      "factorial(3) ➞ 6\n",
      "factorial(1) ➞ 1\n",
      "factorial(0) ➞ 1\n"
     ]
    }
   ],
   "source": [
    "def factorial(num):\n",
    "    if num == 0:\n",
    "        return 1\n",
    "    else:\n",
    "        return num * factorial(num-1)\n",
    "\n",
    "print(f'factorial(5) ➞ {factorial(5)}')\n",
    "print(f'factorial(4) ➞ {factorial(4)}')\n",
    "print(f'factorial(3) ➞ {factorial(3)}')\n",
    "print(f'factorial(1) ➞ {factorial(1)}')\n",
    "print(f'factorial(0) ➞ {factorial(0)}')"
   ]
  },
  {
   "cell_type": "markdown",
   "id": "72855fec-295f-4b01-8daa-41a3c64cad90",
   "metadata": {},
   "source": [
    "#### 5.Write a function that moves all elements of one type to the end of the list.\n",
    "**Examples:**    \n",
    "`move_to_end([1, 3, 2, 4, 4, 1], 1) ➞ [3, 2, 4, 4, 1, 1]`  \n",
    "    # Move all the 1s to the end of the array.    \n",
    "`move_to_end([7, 8, 9, 1, 2, 3, 4], 9) ➞ [7, 8, 1, 2, 3, 4, 9]`  \n",
    "`move_to_end([\"a\", \"a\", \"a\", \"b\"], \"a\") ➞ [\"b\", \"a\", \"a\", \"a\"]`  "
   ]
  },
  {
   "cell_type": "code",
   "execution_count": 7,
   "id": "6663dbdb-0354-457e-b4b6-4beec38c5c7e",
   "metadata": {},
   "outputs": [
    {
     "name": "stdout",
     "output_type": "stream",
     "text": [
      "move_to_end([1, 3, 2, 4, 4, 1], 1) ➞ [3, 2, 4, 4, 1, 1]\n",
      "move_to_end([7, 8, 9, 1, 2, 3, 4], 9) ➞ [7, 8, 1, 2, 3, 4, 9]\n",
      "move_to_end([\"a\", \"a\", \"a\", \"b\"], \"a\") ➞ ['b', 'a', 'a', 'a']\n"
     ]
    }
   ],
   "source": [
    "def move_to_end(list_num,num):\n",
    "    first_end = []\n",
    "    second_end = []\n",
    "    for ele in list_num:\n",
    "        if ele == num:\n",
    "            second_end.append(ele)\n",
    "        else:\n",
    "            first_end.append(ele)\n",
    "    first_end.extend(second_end)\n",
    "    return first_end\n",
    "    \n",
    "print(f'move_to_end([1, 3, 2, 4, 4, 1], 1) ➞ {move_to_end([1, 3, 2, 4, 4, 1], 1)}')\n",
    "print(f'move_to_end([7, 8, 9, 1, 2, 3, 4], 9) ➞ {move_to_end([7, 8, 9, 1, 2, 3, 4], 9)}')\n",
    "print(f'move_to_end([\"a\", \"a\", \"a\", \"b\"], \"a\") ➞ {move_to_end([\"a\", \"a\", \"a\", \"b\"], \"a\")}')"
   ]
  },
  {
   "cell_type": "code",
   "execution_count": null,
   "id": "c3363675-e60b-4b95-a4f7-7b2b166f1108",
   "metadata": {},
   "outputs": [],
   "source": []
  }
 ],
 "metadata": {
  "kernelspec": {
   "display_name": "Python 3 (ipykernel)",
   "language": "python",
   "name": "python3"
  },
  "language_info": {
   "codemirror_mode": {
    "name": "ipython",
    "version": 3
   },
   "file_extension": ".py",
   "mimetype": "text/x-python",
   "name": "python",
   "nbconvert_exporter": "python",
   "pygments_lexer": "ipython3",
   "version": "3.8.10"
  }
 },
 "nbformat": 4,
 "nbformat_minor": 5
}
