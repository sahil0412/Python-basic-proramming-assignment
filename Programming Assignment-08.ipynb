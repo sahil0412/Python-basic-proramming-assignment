{
 "cells": [
  {
   "cell_type": "markdown",
   "id": "64abbefb-6403-4994-aa20-674da662ebcf",
   "metadata": {},
   "source": [
    "# Assignment 8 Solutions"
   ]
  },
  {
   "cell_type": "markdown",
   "id": "58083703-7d5a-4cd0-a6b1-ed6c9437baa7",
   "metadata": {},
   "source": [
    "#### 1. Write a Python Program to Add two Matrices ?"
   ]
  },
  {
   "cell_type": "code",
   "execution_count": 2,
   "id": "d73be8cb-653c-4bbd-b7b8-a575c65fe32c",
   "metadata": {},
   "outputs": [
    {
     "name": "stdout",
     "output_type": "stream",
     "text": [
      "Result of matrix addition:\n",
      "[2, 4, 6]\n",
      "[8, 10, 12]\n",
      "[14, 16, 18]\n"
     ]
    }
   ],
   "source": [
    "def add_matrices(matrix1, matrix2):\n",
    "    # Check if the dimensions of the matrices are compatible\n",
    "    if len(matrix1) != len(matrix2) or len(matrix1[0]) != len(matrix2[0]):\n",
    "        return None  # Matrices are not of the same size, so addition is not possible\n",
    "    \n",
    "    # Initialize a result matrix with the same dimensions as the input matrices\n",
    "    result = [[0] * len(matrix1[0]) for _ in range(len(matrix1))]\n",
    "    \n",
    "    # Add corresponding elements from each matrix\n",
    "    for i in range(len(matrix1)):\n",
    "        for j in range(len(matrix1[0])):\n",
    "            result[i][j] = matrix1[i][j] + matrix2[i][j]\n",
    "    \n",
    "    return result\n",
    "\n",
    "matrix1 = [[1, 2, 3],\n",
    "           [4, 5, 6],\n",
    "           [7, 8, 9]]\n",
    "\n",
    "matrix2 = [[1, 2, 3],\n",
    "           [4, 5, 6],\n",
    "           [7, 8, 9]]\n",
    "\n",
    "result = add_matrices(matrix1, matrix2)\n",
    "if result is None:\n",
    "    print(\"Matrices are not of the same size, addition is not possible.\")\n",
    "else:\n",
    "    print(\"Result of matrix addition:\")\n",
    "    for row in result:\n",
    "        print(row)\n"
   ]
  },
  {
   "cell_type": "markdown",
   "id": "e41a635f-8971-4f18-a384-b36b5e0aa249",
   "metadata": {},
   "source": [
    "#### 2. Write a Python Program to Multiply two Matrices ?"
   ]
  },
  {
   "cell_type": "code",
   "execution_count": 3,
   "id": "d82a2175-d687-42e2-83fb-4900ef48c82a",
   "metadata": {},
   "outputs": [
    {
     "name": "stdout",
     "output_type": "stream",
     "text": [
      "Result of matrix multiplication:\n",
      "[58, 64]\n",
      "[139, 154]\n"
     ]
    }
   ],
   "source": [
    "def multiply_matrices(matrix1, matrix2):\n",
    "    # Check if the number of columns in matrix1 is equal to the number of rows in matrix2\n",
    "    if len(matrix1[0]) != len(matrix2):\n",
    "        return None  # Matrix multiplication is not possible\n",
    "    \n",
    "    # Initialize the result matrix with appropriate dimensions\n",
    "    result = [[0] * len(matrix2[0]) for _ in range(len(matrix1))]\n",
    "    \n",
    "    # Iterate through each row of matrix1\n",
    "    for i in range(len(matrix1)):\n",
    "        # Iterate through each column of matrix2\n",
    "        for j in range(len(matrix2[0])):\n",
    "            # Iterate through each element in the row of matrix1 and the column of matrix2\n",
    "            for k in range(len(matrix2)):\n",
    "                # Multiply corresponding elements and sum them up\n",
    "                result[i][j] += matrix1[i][k] * matrix2[k][j]\n",
    "    \n",
    "    return result\n",
    "\n",
    "matrix1 = [[1, 2, 3],\n",
    "           [4, 5, 6]]\n",
    "\n",
    "matrix2 = [[7, 8],\n",
    "           [9, 10],\n",
    "           [11, 12]]\n",
    "\n",
    "result = multiply_matrices(matrix1, matrix2)\n",
    "if result is None:\n",
    "    print(\"Matrix multiplication is not possible.\")\n",
    "else:\n",
    "    print(\"Result of matrix multiplication:\")\n",
    "    for row in result:\n",
    "        print(row)\n"
   ]
  },
  {
   "cell_type": "markdown",
   "id": "999d4d36-caed-4fb5-8e83-92c72e3ecd44",
   "metadata": {},
   "source": [
    "#### 3. Write a Python Program to transpose a Matrix ?"
   ]
  },
  {
   "cell_type": "code",
   "execution_count": 5,
   "id": "a5e47830-3d1e-4532-9117-925e293ad4c6",
   "metadata": {},
   "outputs": [
    {
     "name": "stdout",
     "output_type": "stream",
     "text": [
      "Original Matrix:\n",
      "[1, 2, 3]\n",
      "[4, 5, 6]\n",
      "\n",
      "Transposed Matrix:\n",
      "[1, 4]\n",
      "[2, 5]\n",
      "[3, 6]\n"
     ]
    }
   ],
   "source": [
    "def transpose_matrix(matrix):\n",
    "    # Get the number of rows and columns of the matrix\n",
    "    num_rows = len(matrix)\n",
    "    num_cols = len(matrix[0])\n",
    "    \n",
    "    # Create a new matrix to store the transposed matrix\n",
    "    transposed = [[0] * num_rows for _ in range(num_cols)]\n",
    "    \n",
    "    # Iterate through each element of the original matrix and place it in the transposed matrix\n",
    "    for i in range(num_rows):\n",
    "        for j in range(num_cols):\n",
    "            transposed[j][i] = matrix[i][j]\n",
    "    \n",
    "    return transposed\n",
    "\n",
    "matrix = [[1, 2, 3],\n",
    "          [4, 5, 6]]\n",
    "\n",
    "transposed_matrix = transpose_matrix(matrix)\n",
    "print(\"Original Matrix:\")\n",
    "for row in matrix:\n",
    "    print(row)\n",
    "\n",
    "print(\"\\nTransposed Matrix:\")\n",
    "for row in transposed_matrix:\n",
    "    print(row)\n"
   ]
  },
  {
   "cell_type": "markdown",
   "id": "7eab22f1-1126-4d40-aba5-17dcbb61209e",
   "metadata": {},
   "source": [
    "#### 4. Write a Python Program to sort Words in an Alphabatical Order ?"
   ]
  },
  {
   "cell_type": "code",
   "execution_count": 7,
   "id": "c49eb092-5eb8-403e-bba9-8d2f273633e1",
   "metadata": {},
   "outputs": [
    {
     "name": "stdin",
     "output_type": "stream",
     "text": [
      "Enter a sentence:  my name is sahil\n"
     ]
    },
    {
     "name": "stdout",
     "output_type": "stream",
     "text": [
      "Words sorted in alphabetical order:\n",
      "is my name sahil\n"
     ]
    }
   ],
   "source": [
    "def sort_words_alphabetically(sentence):\n",
    "    # Split the sentence into words\n",
    "    words = sentence.split()\n",
    "    # Sort the words alphabetically\n",
    "    sorted_words = sorted(words)\n",
    "    # Join the sorted words into a single string\n",
    "    sorted_sentence = ' '.join(sorted_words)\n",
    "    return sorted_sentence\n",
    "\n",
    "sentence = input(\"Enter a sentence: \")\n",
    "sorted_sentence = sort_words_alphabetically(sentence)\n",
    "print(\"Words sorted in alphabetical order:\")\n",
    "print(sorted_sentence)\n"
   ]
  },
  {
   "cell_type": "markdown",
   "id": "8e06340f-be90-4cbf-9bb9-f8b80adb79ec",
   "metadata": {},
   "source": [
    "#### 5. Write a Python Program to remove Punctuations From a String ?"
   ]
  },
  {
   "cell_type": "code",
   "execution_count": 13,
   "id": "c3ba61f3-09ae-4edb-ae25-9033fed046c2",
   "metadata": {},
   "outputs": [
    {
     "name": "stdin",
     "output_type": "stream",
     "text": [
      "Enter a string with punctuations:  ygsdg2ewr7ew728uw90@&T*@UFVJKIO.:>P.'/'[;[/'\n"
     ]
    },
    {
     "name": "stdout",
     "output_type": "stream",
     "text": [
      "String after removing punctuations:\n",
      "ygsdg2ewr7ew728uw90TUFVJKIOP\n"
     ]
    }
   ],
   "source": [
    "import string\n",
    "\n",
    "def remove_punctuation(input_string):\n",
    "    # Create a string containing all punctuation characters\n",
    "    punctuations = string.punctuation\n",
    "    punctuations += \" \"\n",
    "    # Replace each punctuation character with an empty string\n",
    "    cleaned_string = input_string\n",
    "    for char in punctuations:\n",
    "        cleaned_string = cleaned_string.replace(char, '')\n",
    "    return cleaned_string\n",
    "\n",
    "input_string = input(\"Enter a string with punctuations: \")\n",
    "cleaned_string = remove_punctuation(input_string)\n",
    "print(\"String after removing punctuations:\")\n",
    "print(cleaned_string)\n"
   ]
  },
  {
   "cell_type": "code",
   "execution_count": null,
   "id": "eb23e26b-db82-43dc-8954-64b6c2cae636",
   "metadata": {},
   "outputs": [],
   "source": []
  }
 ],
 "metadata": {
  "kernelspec": {
   "display_name": "Python 3 (ipykernel)",
   "language": "python",
   "name": "python3"
  },
  "language_info": {
   "codemirror_mode": {
    "name": "ipython",
    "version": 3
   },
   "file_extension": ".py",
   "mimetype": "text/x-python",
   "name": "python",
   "nbconvert_exporter": "python",
   "pygments_lexer": "ipython3",
   "version": "3.8.10"
  }
 },
 "nbformat": 4,
 "nbformat_minor": 5
}
